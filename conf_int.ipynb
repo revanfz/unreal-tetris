{
 "cells": [
  {
   "cell_type": "code",
   "execution_count": 1,
   "metadata": {},
   "outputs": [],
   "source": [
    "import numpy as np\n",
    "import pandas as pd\n",
    "import seaborn as sns\n",
    "import matplotlib.pyplot as plt"
   ]
  },
  {
   "cell_type": "code",
   "execution_count": 2,
   "metadata": {},
   "outputs": [],
   "source": [
    "def calc_iqm(data):\n",
    "    sorted_data = np.sort(data)\n",
    "\n",
    "    q2 = np.percentile(sorted_data, 25)\n",
    "    q3 = np.percentile(sorted_data, 75)\n",
    "\n",
    "    interquartile_data = sorted_data[(sorted_data >= q2) & (sorted_data <= q3)]\n",
    "    \n",
    "    iqm = np.mean(interquartile_data)\n",
    "    return iqm"
   ]
  },
  {
   "cell_type": "code",
   "execution_count": 3,
   "metadata": {},
   "outputs": [],
   "source": [
    "def confidence_intervals(data, n_sample, parameter, iterasi=1000, alpha=0.05, bootstrap=False):\n",
    "    stats = np.array([])\n",
    "\n",
    "    for _ in range(iterasi):\n",
    "        if bootstrap:\n",
    "            sample = data[parameter].sample(n_sample, replace=True)\n",
    "        else:\n",
    "            sample = data.groupby('level', group_keys=False).apply(lambda x: x[parameter].sample(n=5, replace=True), include_groups=False).reset_index(drop=True)\n",
    "        stat = calc_iqm(sample)\n",
    "        stats = np.append(stats, stat)\n",
    "\n",
    "    lower_bound = np.percentile(stats, 100 * alpha / 2)\n",
    "    upper_bound = np.percentile(stats, 100 * (1 - alpha / 2))\n",
    "    \n",
    "    return stats, lower_bound, upper_bound, np.mean(stats), np.std(stats)"
   ]
  },
  {
   "cell_type": "code",
   "execution_count": 4,
   "metadata": {},
   "outputs": [],
   "source": [
    "def validate_95_percent_ci(data, lower_bound, upper_bound):\n",
    "    count_in_range = np.sum((data >= lower_bound) & (data <= upper_bound))\n",
    "    proportion_in_range = count_in_range / len(data)\n",
    "    return proportion_in_range"
   ]
  },
  {
   "cell_type": "code",
   "execution_count": 5,
   "metadata": {},
   "outputs": [],
   "source": [
    "def plot_interval(data, metric, title):\n",
    "    # Menambahkan label dan judul\n",
    "    fig, axes = plt.subplots(1, 2, figsize=(15, 8))\n",
    "    sns.boxplot(y='level', x='normalized_block_placed', data=data, ax=axes[0], orient=\"h\")\n",
    "    axes[0].set_title(f'Normalized {metric} per Level')\n",
    "    axes[0].set_xlabel(f'Normalized {metric}')\n",
    "    axes[0].set_ylabel('Level')\n",
    "\n",
    "    sns.boxplot(y='level', x='block_placed', data=data, ax=axes[1], orient=\"h\")\n",
    "    axes[1].set_title(f'{metric} per level')\n",
    "    axes[1].set_xlabel(f'{metric}')\n",
    "    axes[1].set_ylabel('Level')\n",
    "\n",
    "    # Menambahkan jarak antar subplots\n",
    "    plt.tight_layout()\n",
    "    plt.show()"
   ]
  },
  {
   "cell_type": "code",
   "execution_count": 15,
   "metadata": {},
   "outputs": [
    {
     "data": {
      "text/html": [
       "<div>\n",
       "<style scoped>\n",
       "    .dataframe tbody tr th:only-of-type {\n",
       "        vertical-align: middle;\n",
       "    }\n",
       "\n",
       "    .dataframe tbody tr th {\n",
       "        vertical-align: top;\n",
       "    }\n",
       "\n",
       "    .dataframe thead th {\n",
       "        text-align: right;\n",
       "    }\n",
       "</style>\n",
       "<table border=\"1\" class=\"dataframe\">\n",
       "  <thead>\n",
       "    <tr style=\"text-align: right;\">\n",
       "      <th></th>\n",
       "      <th>lines</th>\n",
       "      <th>score</th>\n",
       "      <th>block_placed</th>\n",
       "      <th>episode_time</th>\n",
       "      <th>episode_length</th>\n",
       "      <th>level</th>\n",
       "    </tr>\n",
       "  </thead>\n",
       "  <tbody>\n",
       "    <tr>\n",
       "      <th>0</th>\n",
       "      <td>0</td>\n",
       "      <td>0</td>\n",
       "      <td>20</td>\n",
       "      <td>211.098008</td>\n",
       "      <td>4461</td>\n",
       "      <td>0</td>\n",
       "    </tr>\n",
       "    <tr>\n",
       "      <th>1</th>\n",
       "      <td>0</td>\n",
       "      <td>0</td>\n",
       "      <td>16</td>\n",
       "      <td>147.323691</td>\n",
       "      <td>4492</td>\n",
       "      <td>0</td>\n",
       "    </tr>\n",
       "    <tr>\n",
       "      <th>2</th>\n",
       "      <td>0</td>\n",
       "      <td>0</td>\n",
       "      <td>21</td>\n",
       "      <td>171.629761</td>\n",
       "      <td>5327</td>\n",
       "      <td>0</td>\n",
       "    </tr>\n",
       "    <tr>\n",
       "      <th>3</th>\n",
       "      <td>0</td>\n",
       "      <td>0</td>\n",
       "      <td>20</td>\n",
       "      <td>181.551409</td>\n",
       "      <td>5507</td>\n",
       "      <td>0</td>\n",
       "    </tr>\n",
       "    <tr>\n",
       "      <th>4</th>\n",
       "      <td>0</td>\n",
       "      <td>0</td>\n",
       "      <td>19</td>\n",
       "      <td>158.861266</td>\n",
       "      <td>4997</td>\n",
       "      <td>0</td>\n",
       "    </tr>\n",
       "  </tbody>\n",
       "</table>\n",
       "</div>"
      ],
      "text/plain": [
       "   lines  score  block_placed  episode_time  episode_length  level\n",
       "0      0      0            20    211.098008            4461      0\n",
       "1      0      0            16    147.323691            4492      0\n",
       "2      0      0            21    171.629761            5327      0\n",
       "3      0      0            20    181.551409            5507      0\n",
       "4      0      0            19    158.861266            4997      0"
      ]
     },
     "execution_count": 15,
     "metadata": {},
     "output_type": "execute_result"
    }
   ],
   "source": [
    "level = []\n",
    "for i in range(20):\n",
    "    df = pd.read_csv(f\"../pengujian-tetris/deterministic/{i+1}.csv\")\n",
    "    df[\"level\"] = i\n",
    "    level.append(df)\n",
    "    \n",
    "level = pd.concat(level, ignore_index=True)\n",
    "level = level.drop('rewards', axis=1)\n",
    "level.head()"
   ]
  },
  {
   "cell_type": "code",
   "execution_count": 19,
   "metadata": {},
   "outputs": [],
   "source": [
    "x = level.groupby('level')['block_placed'].sum()"
   ]
  },
  {
   "cell_type": "code",
   "execution_count": 23,
   "metadata": {},
   "outputs": [
    {
     "name": "stdout",
     "output_type": "stream",
     "text": [
      "level\n",
      "0     658\n",
      "1     665\n",
      "2     657\n",
      "3     650\n",
      "4     643\n",
      "5     693\n",
      "6     691\n",
      "7     661\n",
      "8     639\n",
      "9     603\n",
      "10    581\n",
      "11    658\n",
      "12    594\n",
      "13    559\n",
      "14    595\n",
      "15    601\n",
      "16    556\n",
      "17    552\n",
      "18    591\n",
      "19    536\n",
      "Name: block_placed, dtype: int64 693 536\n"
     ]
    }
   ],
   "source": [
    "print(x, x.max(), x.min())"
   ]
  },
  {
   "cell_type": "code",
   "execution_count": 21,
   "metadata": {},
   "outputs": [],
   "source": [
    "normalised = (x - x.min()) / (x.max() - x.min())"
   ]
  },
  {
   "cell_type": "code",
   "execution_count": 22,
   "metadata": {},
   "outputs": [
    {
     "data": {
      "text/plain": [
       "level\n",
       "0     0.777070\n",
       "1     0.821656\n",
       "2     0.770701\n",
       "3     0.726115\n",
       "4     0.681529\n",
       "5     1.000000\n",
       "6     0.987261\n",
       "7     0.796178\n",
       "8     0.656051\n",
       "9     0.426752\n",
       "10    0.286624\n",
       "11    0.777070\n",
       "12    0.369427\n",
       "13    0.146497\n",
       "14    0.375796\n",
       "15    0.414013\n",
       "16    0.127389\n",
       "17    0.101911\n",
       "18    0.350318\n",
       "19    0.000000\n",
       "Name: block_placed, dtype: float64"
      ]
     },
     "execution_count": 22,
     "metadata": {},
     "output_type": "execute_result"
    }
   ],
   "source": [
    "normalised"
   ]
  },
  {
   "cell_type": "code",
   "execution_count": 13,
   "metadata": {},
   "outputs": [],
   "source": [
    "# Normlized Score\n",
    "level['normalized_block_placed'] = level.groupby('level')['block_placed'].transform(lambda x: (x - x.min() )/ (x.max() - x.min()))\n",
    "level['normalized_episode_time'] = level.groupby('level')['episode_time'].transform(lambda x: (x - x.min() )/ (x.max() - x.min()))\n",
    "level['normalized_episode_length'] = level.groupby('level')['episode_length'].transform(lambda x: (x - x.min() )/ (x.max() - x.min()))"
   ]
  },
  {
   "cell_type": "code",
   "execution_count": 14,
   "metadata": {},
   "outputs": [
    {
     "data": {
      "image/png": "[encoded data removed]",
      "text/plain": [
       "<Figure size 1500x800 with 2 Axes>"
      ]
     },
     "metadata": {},
     "output_type": "display_data"
    }
   ],
   "source": [
    "plot_interval(level, \"normalized_block_placed\", \"Normalized block placed\")"
   ]
  },
  {
   "cell_type": "code",
   "execution_count": null,
   "metadata": {},
   "outputs": [],
   "source": [
    "fig, axes = plt.subplots(1, 2, figsize=(15, 8))\n",
    "sns.boxplot(y='level', x='normalized_episode_time', data=level, ax=axes[0], orient=\"h\")\n",
    "axes[0].set_title('Normalized Time Survived per Level')\n",
    "axes[0].set_xlabel('Normalized Time Survived')\n",
    "axes[0].set_ylabel('Level')\n",
    "\n",
    "sns.boxplot(y='level', x='normalized_episode_length', data=level, ax=axes[1], orient=\"h\")\n",
    "axes[1].set_title('Normalized Panjang Episode per Level')\n",
    "axes[1].set_xlabel('Normalized Episode Length')\n",
    "axes[1].set_ylabel('Level')\n",
    "\n",
    "\n",
    "# Menambahkan jarak antar subplots\n",
    "plt.tight_layout()\n",
    "plt.show()"
   ]
  },
  {
   "cell_type": "code",
   "execution_count": null,
   "metadata": {},
   "outputs": [],
   "source": [
    "width = []\n",
    "fig, axes = plt.subplots(5, 4, figsize=(15, 20))  # Membuat grid 2 baris dan 5 kolom\n",
    "axes = axes.flatten()  # Membuat axes menjadi array 1D untuk akses mudah\n",
    "for i in range(20):\n",
    "    data = level[level[\"level\"] == i]\n",
    "    stats, lb, ub, mean, std = confidence_intervals(data, 100, \"block_placed\")\n",
    "\n",
    "    # Membuat histogram distribusi data\n",
    "    axes[i].hist(stats, bins=30, edgecolor='black', alpha=0.7)\n",
    "\n",
    "    # Membuat garis lower dan upper bound\n",
    "    axes[i].axvline(lb, color='r', linestyle='dashed', linewidth=2, label=f'Lower Bound ({lb:.2f})')\n",
    "    axes[i].axvline(ub, color='g', linestyle='dashed', linewidth=2, label=f'Upper Bound ({ub:.2f})')\n",
    "\n",
    "    axes[i].text(0.05, 0.95, f'Mean: {mean:.2f}\\nStd: {std:.2f}', \n",
    "                 transform=axes[i].transAxes, fontsize=8, va='top', bbox=dict(boxstyle=\"round\", alpha=0.5, color=\"white\"))\n",
    "\n",
    "    # Menambahkan keterangan (legend)\n",
    "    axes[i].legend(loc='upper right', fontsize=8)\n",
    "\n",
    "    # Melabeli judul, sumbu-X, dan sumbu-Y\n",
    "    axes[i].set_title(f'Level {i}')\n",
    "    axes[i].set_xlabel('IQM (Block placed)')\n",
    "    axes[i].set_ylabel('Frequency')\n",
    "\n",
    "    is_valid = validate_95_percent_ci(stats, lb, ub)\n",
    "    print(f\"Percentage: {is_valid * 100}%\")\n",
    "    width.append(ub-lb)\n",
    "\n",
    "max_idx = width.index(max(width))\n",
    "min_idx = width.index(min(width))\n",
    "plt.tight_layout()  # Mengatur layout agar tidak overlap\n",
    "plt.show()\n",
    "\n",
    "print(f\"Level dengan konsistensi tertinggi: {min_idx}, dengan lebar distribusi {width[min_idx]}\")\n",
    "print(f\"Level yang paling tidak konsisten: {max_idx}, dengan lebar distribusi {width[max_idx]}\", )"
   ]
  },
  {
   "cell_type": "code",
   "execution_count": null,
   "metadata": {},
   "outputs": [],
   "source": [
    "width = []\n",
    "fig, axes = plt.subplots(5, 4, figsize=(15, 20))  # Membuat grid 2 baris dan 5 kolom\n",
    "axes = axes.flatten()  # Membuat axes menjadi array 1D untuk akses mudah\n",
    "for i in range(20):\n",
    "    data = level[level[\"level\"] == i]\n",
    "    stats, lb, ub, mean, std = confidence_intervals(data, 100, \"normalized_block_placed\")\n",
    "\n",
    "    # Membuat histogram distribusi data\n",
    "    axes[i].hist(stats, bins=30, edgecolor='black', alpha=0.7)\n",
    "\n",
    "    # Membuat garis lower dan upper bound\n",
    "    axes[i].axvline(lb, color='r', linestyle='dashed', linewidth=2, label=f'Lower Bound ({lb:.2f})')\n",
    "    axes[i].axvline(ub, color='g', linestyle='dashed', linewidth=2, label=f'Upper Bound ({ub:.2f})')\n",
    "\n",
    "    axes[i].text(0.05, 0.95, f'Mean: {mean:.2f}\\nStd: {std:.2f}', \n",
    "                 transform=axes[i].transAxes, fontsize=8, va='top', bbox=dict(boxstyle=\"round\", alpha=0.5, color=\"white\"))\n",
    "\n",
    "    # Menambahkan keterangan (legend)\n",
    "    axes[i].legend(loc='upper right', fontsize=8)\n",
    "\n",
    "    # Melabeli judul, sumbu-X, dan sumbu-Y\n",
    "    axes[i].set_title(f'Level {i}')\n",
    "    axes[i].set_xlabel('IQM (Normalized block placed)')\n",
    "    axes[i].set_ylabel('Frequency')\n",
    "\n",
    "    is_valid = validate_95_percent_ci(stats, lb, ub)\n",
    "    print(f\"Percentage: {is_valid * 100}%\")\n",
    "    width.append(ub-lb)\n",
    "    \n",
    "\n",
    "max_idx = width.index(max(width))\n",
    "min_idx = width.index(min(width))\n",
    "plt.tight_layout()  # Mengatur layout agar tidak overlap\n",
    "plt.show()\n",
    "\n",
    "print(f\"Level dengan konsistensi tertinggi: {min_idx}, dengan lebar distribusi {width[min_idx]}\")\n",
    "print(f\"Level yang paling tidak konsisten: {max_idx}, dengan lebar distribusi {width[max_idx]}\", )"
   ]
  },
  {
   "cell_type": "code",
   "execution_count": null,
   "metadata": {},
   "outputs": [],
   "source": [
    "width = []\n",
    "fig, axes = plt.subplots(5, 4, figsize=(15, 20))  # Membuat grid 2 baris dan 5 kolom\n",
    "axes = axes.flatten()  # Membuat axes menjadi array 1D untuk akses mudah\n",
    "for i in range(20):\n",
    "    data = level[level[\"level\"] == i]\n",
    "    stats, lb, ub, mean, std = confidence_intervals(data, 100, \"normalized_episode_time\")\n",
    "\n",
    "    # Membuat histogram distribusi data\n",
    "    axes[i].hist(stats, bins=30, edgecolor='black', alpha=0.7)\n",
    "\n",
    "    # Membuat garis lower dan upper bound\n",
    "    axes[i].axvline(lb, color='r', linestyle='dashed', linewidth=2, label=f'Lower Bound ({lb:.2f})')\n",
    "    axes[i].axvline(ub, color='g', linestyle='dashed', linewidth=2, label=f'Upper Bound ({ub:.2f})')\n",
    "\n",
    "    axes[i].text(0.05, 0.95, f'Mean: {mean:.2f}\\nStd: {std:.2f}', \n",
    "                 transform=axes[i].transAxes, fontsize=8, va='top', bbox=dict(boxstyle=\"round\", alpha=0.5, color=\"white\"))\n",
    "\n",
    "    # Menambahkan keterangan (legend)\n",
    "    axes[i].legend(loc='upper right', fontsize=8)\n",
    "\n",
    "    # Melabeli judul, sumbu-X, dan sumbu-Y\n",
    "    axes[i].set_title(f'Level {i}')\n",
    "    axes[i].set_xlabel('IQM (Normalized episode time)')\n",
    "    axes[i].set_ylabel('Frequency')\n",
    "\n",
    "    is_valid = validate_95_percent_ci(stats, lb, ub)\n",
    "    print(f\"Percentage: {is_valid * 100}%\")\n",
    "    width.append(ub-lb)\n",
    "    \n",
    "\n",
    "max_idx = width.index(max(width))\n",
    "min_idx = width.index(min(width))\n",
    "plt.tight_layout()  # Mengatur layout agar tidak overlap\n",
    "plt.show()\n",
    "\n",
    "print(f\"Level dengan konsistensi tertinggi: {min_idx}, dengan lebar distribusi {width[min_idx]}\")\n",
    "print(f\"Level yang paling tidak konsisten: {max_idx}, dengan lebar distribusi {width[max_idx]}\", )"
   ]
  },
  {
   "cell_type": "code",
   "execution_count": null,
   "metadata": {},
   "outputs": [],
   "source": [
    "width = []\n",
    "fig, axes = plt.subplots(5, 4, figsize=(15, 20))  # Membuat grid 2 baris dan 5 kolom\n",
    "axes = axes.flatten()  # Membuat axes menjadi array 1D untuk akses mudah\n",
    "for i in range(20):\n",
    "    data = level[level[\"level\"] == i]\n",
    "    stats, lb, ub, mean, std = confidence_intervals(data, 100, \"normalized_episode_length\")\n",
    "\n",
    "    # Membuat histogram distribusi data\n",
    "    axes[i].hist(stats, bins=30, edgecolor='black', alpha=0.7)\n",
    "\n",
    "    # Membuat garis lower dan upper bound\n",
    "    axes[i].axvline(lb, color='r', linestyle='dashed', linewidth=2, label=f'Lower Bound ({lb:.2f})')\n",
    "    axes[i].axvline(ub, color='g', linestyle='dashed', linewidth=2, label=f'Upper Bound ({ub:.2f})')\n",
    "\n",
    "    axes[i].text(0.05, 0.95, f'Mean: {mean:.2f}\\nStd: {std:.2f}', \n",
    "                 transform=axes[i].transAxes, fontsize=8, va='top', bbox=dict(boxstyle=\"round\", alpha=0.5, color=\"white\"))\n",
    "\n",
    "    # Menambahkan keterangan (legend)\n",
    "    axes[i].legend(loc='upper right', fontsize=8)\n",
    "\n",
    "    # Melabeli judul, sumbu-X, dan sumbu-Y\n",
    "    axes[i].set_title(f'Level {i}')\n",
    "    axes[i].set_xlabel('IQM (Normalized episode length)')\n",
    "    axes[i].set_ylabel('Frequency')\n",
    "\n",
    "    is_valid = validate_95_percent_ci(stats, lb, ub)\n",
    "    print(f\"Percentage: {is_valid * 100}%\")\n",
    "    width.append(ub-lb)\n",
    "    \n",
    "\n",
    "max_idx = width.index(max(width))\n",
    "min_idx = width.index(min(width))\n",
    "plt.tight_layout()  # Mengatur layout agar tidak overlap\n",
    "plt.show()\n",
    "\n",
    "print(f\"Level dengan konsistensi tertinggi: {min_idx}, dengan lebar distribusi {width[min_idx]}\")\n",
    "print(f\"Level yang paling tidak konsisten: {max_idx}, dengan lebar distribusi {width[max_idx]}\", )"
   ]
  }
 ],
 "metadata": {
  "kernelspec": {
   "display_name": "unreal-tetris",
   "language": "python",
   "name": "python3"
  },
  "language_info": {
   "codemirror_mode": {
    "name": "ipython",
    "version": 3
   },
   "file_extension": ".py",
   "mimetype": "text/x-python",
   "name": "python",
   "nbconvert_exporter": "python",
   "pygments_lexer": "ipython3",
   "version": "3.10.14"
  },
  "orig_nbformat": 4
 },
 "nbformat": 4,
 "nbformat_minor": 2
}
