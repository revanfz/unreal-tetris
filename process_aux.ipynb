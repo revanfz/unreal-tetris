{
 "cells": [
  {
   "cell_type": "code",
   "execution_count": 1,
   "metadata": {},
   "outputs": [],
   "source": [
    "import numpy as np\n",
    "import pandas as pd\n",
    "import seaborn as sns\n",
    "import matplotlib.pyplot as plt"
   ]
  },
  {
   "cell_type": "code",
   "execution_count": 2,
   "metadata": {},
   "outputs": [],
   "source": [
    "CSV_PATH = \"./UNREAL-eval/aux\"\n",
    "TEST_SCHEME = [\"full aux\", \"pc\", \"no pc\", \"rp\", \"vr\",  \"no aux\"]"
   ]
  },
  {
   "cell_type": "code",
   "execution_count": 3,
   "metadata": {},
   "outputs": [],
   "source": [
    "game_dfs = {}\n",
    "episode_dfs = {}\n",
    "for item in TEST_SCHEME:\n",
    "    game_dfs[item] = pd.read_csv(f\"{CSV_PATH}/{item}_game.csv\")\n",
    "    episode_dfs[item] = pd.read_csv(f\"{CSV_PATH}/{item}_episode.csv\")"
   ]
  },
  {
   "cell_type": "markdown",
   "metadata": {},
   "source": [
    "Full Aux"
   ]
  },
  {
   "cell_type": "code",
   "execution_count": null,
   "metadata": {},
   "outputs": [],
   "source": [
    "game_dfs[\"full aux\"].head(), game_dfs[\"no aux\"].head()"
   ]
  },
  {
   "cell_type": "code",
   "execution_count": 5,
   "metadata": {},
   "outputs": [],
   "source": [
    "for key, item in game_dfs.items():\n",
    "    game_dfs[key][\"acc_blocks\"] = game_dfs[key][\"blocks\"].cumsum()\n",
    "    game_dfs[key][\"acc_rewards\"] = game_dfs[key][\"rewards\"].cumsum()\n",
    "    game_dfs[key][\"acc_lines\"] = game_dfs[key][\"lines\"].cumsum()"
   ]
  },
  {
   "cell_type": "code",
   "execution_count": null,
   "metadata": {},
   "outputs": [],
   "source": [
    "sns.set_style(\"whitegrid\")\n",
    "plt.figure(figsize=(10,6))\n",
    "\n",
    "for key, items in game_dfs.items():\n",
    "    sns.lineplot(data=game_dfs[key], x=game_dfs[key].index, y=\"acc_blocks\", label=f\"{key} blocks\")\n",
    "\n",
    "plt.title(\"Comparison of Accumulated Blocks\")\n",
    "plt.xlabel(\"Episodes\")\n",
    "plt.ylabel(\"Accumulated Values\")\n",
    "plt.legend(title=\"Legend\", loc=\"upper left\")\n",
    "plt.show()"
   ]
  },
  {
   "cell_type": "code",
   "execution_count": null,
   "metadata": {},
   "outputs": [],
   "source": [
    "sns.set_style(\"whitegrid\")\n",
    "plt.figure(figsize=(10,6))\n",
    "\n",
    "for key, items in game_dfs.items():\n",
    "    sns.lineplot(data=game_dfs[key], x=game_dfs[key].index, y=\"acc_rewards\", label=f\"{key} rewards\", errorbar=\"sd\")\n",
    "\n",
    "plt.title(\"Comparison of Accumulated Rewards\")\n",
    "plt.xlabel(\"Episodes\")\n",
    "plt.ylabel(\"Accumulated Values\")\n",
    "plt.legend(title=\"Legend\", loc=\"upper left\")\n",
    "plt.show()"
   ]
  },
  {
   "cell_type": "code",
   "execution_count": null,
   "metadata": {},
   "outputs": [],
   "source": [
    "sns.set_style(\"whitegrid\")\n",
    "plt.figure(figsize=(10,6))\n",
    "\n",
    "for key, items in game_dfs.items():\n",
    "    sns.lineplot(data=game_dfs[key], x=game_dfs[key].index, y=\"acc_lines\", label=f\"{key} lines\")\n",
    "\n",
    "plt.title(\"Comparison of Accumulated Lines\")\n",
    "plt.xlabel(\"Episodes\")\n",
    "plt.ylabel(\"Accumulated Values\")\n",
    "plt.legend(title=\"Legend\", loc=\"upper left\")\n",
    "plt.show()"
   ]
  },
  {
   "cell_type": "code",
   "execution_count": null,
   "metadata": {},
   "outputs": [],
   "source": [
    "sns.set_style(\"whitegrid\")\n",
    "plt.figure(figsize=(10,6))\n",
    "\n",
    "for key, items in game_dfs.items():\n",
    "    sns.lineplot(data=game_dfs[key], x=game_dfs[key].index, y=game_dfs[key][\"eps length\"].mean(), label=f\"{key} lines\")\n",
    "\n",
    "plt.title(\"Comparison of Accumulated Lines\")\n",
    "plt.xlabel(\"Episodes\")\n",
    "plt.ylabel(\"Accumulated Values\")\n",
    "plt.legend(title=\"Legend\", loc=\"upper left\")\n",
    "plt.show()"
   ]
  }
 ],
 "metadata": {
  "kernelspec": {
   "display_name": "tetris-a3c",
   "language": "python",
   "name": "python3"
  },
  "language_info": {
   "codemirror_mode": {
    "name": "ipython",
    "version": 3
   },
   "file_extension": ".py",
   "mimetype": "text/x-python",
   "name": "python",
   "nbconvert_exporter": "python",
   "pygments_lexer": "ipython3",
   "version": "3.10.14"
  }
 },
 "nbformat": 4,
 "nbformat_minor": 2
}
